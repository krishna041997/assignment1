{
 "cells": [
  {
   "cell_type": "code",
   "execution_count": 1,
   "id": "f15f1f80-3ac1-4cad-b79a-c7d61491eabe",
   "metadata": {},
   "outputs": [],
   "source": [
    "d={}"
   ]
  },
  {
   "cell_type": "code",
   "execution_count": 2,
   "id": "584969a8-c0fd-4666-9904-22ade35fb396",
   "metadata": {},
   "outputs": [
    {
     "data": {
      "text/plain": [
       "dict"
      ]
     },
     "execution_count": 2,
     "metadata": {},
     "output_type": "execute_result"
    }
   ],
   "source": [
    "type(d)"
   ]
  },
  {
   "cell_type": "code",
   "execution_count": 3,
   "id": "8197826a-d98e-4bb6-92a0-11d7394aa8b9",
   "metadata": {},
   "outputs": [],
   "source": [
    "d1={'key':\"krishna\"}"
   ]
  },
  {
   "cell_type": "code",
   "execution_count": 4,
   "id": "9afce404-91ad-478a-be94-beabe6a6abc7",
   "metadata": {},
   "outputs": [
    {
     "data": {
      "text/plain": [
       "{'key': 'krishna'}"
      ]
     },
     "execution_count": 4,
     "metadata": {},
     "output_type": "execute_result"
    }
   ],
   "source": [
    "d1"
   ]
  },
  {
   "cell_type": "code",
   "execution_count": 10,
   "id": "14044a8a-bce3-4290-8f72-7d60a74e28f2",
   "metadata": {},
   "outputs": [],
   "source": [
    "d2={'name':\"shivkumar\",123:\"gmail\",8075456203:\"house\"\"gonda\"}"
   ]
  },
  {
   "cell_type": "code",
   "execution_count": 11,
   "id": "4e791c9a-a2aa-4f60-afb6-438538b6bdef",
   "metadata": {},
   "outputs": [
    {
     "data": {
      "text/plain": [
       "{'name': 'shivkumar', 123: 'gmail', 8075456203: 'housegonda'}"
      ]
     },
     "execution_count": 11,
     "metadata": {},
     "output_type": "execute_result"
    }
   ],
   "source": [
    "d2"
   ]
  },
  {
   "cell_type": "code",
   "execution_count": 34,
   "id": "93107103-c55f-46ef-9ae3-2afad2c46239",
   "metadata": {},
   "outputs": [],
   "source": [
    "d3={234: \"krishna\" , \"shivkumar\":235,True:456}"
   ]
  },
  {
   "cell_type": "code",
   "execution_count": 35,
   "id": "70c16af4-76f3-4f85-a2b6-13d98a75cf4b",
   "metadata": {},
   "outputs": [
    {
     "data": {
      "text/plain": [
       "{234: 'krishna', 'shivkumar': 235, True: 456}"
      ]
     },
     "execution_count": 35,
     "metadata": {},
     "output_type": "execute_result"
    }
   ],
   "source": [
    "d3"
   ]
  },
  {
   "cell_type": "code",
   "execution_count": 36,
   "id": "f97d333d-f343-4578-8e94-8431e1e4d902",
   "metadata": {},
   "outputs": [
    {
     "data": {
      "text/plain": [
       "'krishna'"
      ]
     },
     "execution_count": 36,
     "metadata": {},
     "output_type": "execute_result"
    }
   ],
   "source": [
    "d3[234]"
   ]
  },
  {
   "cell_type": "code",
   "execution_count": 43,
   "id": "d6f44dd1-51e4-4a29-8ad6-ba57ce55c6fd",
   "metadata": {},
   "outputs": [
    {
     "data": {
      "text/plain": [
       "235"
      ]
     },
     "execution_count": 43,
     "metadata": {},
     "output_type": "execute_result"
    }
   ],
   "source": [
    "d3['shivkumar']"
   ]
  },
  {
   "cell_type": "code",
   "execution_count": 45,
   "id": "a74648ad-a0df-41d7-9b0b-7b6ac008ca4b",
   "metadata": {},
   "outputs": [
    {
     "data": {
      "text/plain": [
       "456"
      ]
     },
     "execution_count": 45,
     "metadata": {},
     "output_type": "execute_result"
    }
   ],
   "source": [
    "d3[True]"
   ]
  },
  {
   "cell_type": "code",
   "execution_count": 47,
   "id": "f43b930c-17ac-43ad-a78f-66db2cb91ba0",
   "metadata": {},
   "outputs": [
    {
     "data": {
      "text/plain": [
       "456"
      ]
     },
     "execution_count": 47,
     "metadata": {},
     "output_type": "execute_result"
    }
   ],
   "source": [
    "d3[1]"
   ]
  },
  {
   "cell_type": "code",
   "execution_count": 49,
   "id": "a0fdb8d5-3f05-41aa-ad9a-5518dbb85936",
   "metadata": {},
   "outputs": [],
   "source": [
    "d4={'name':\"krishna\" , 'email_id' :'kkpps1997@gmail.com' , \"name\": \"krish\" }"
   ]
  },
  {
   "cell_type": "code",
   "execution_count": 50,
   "id": "dfbdd398-30c5-4436-9d3a-87f1883585a8",
   "metadata": {},
   "outputs": [
    {
     "data": {
      "text/plain": [
       "{'name': 'krish', 'email_id': 'kkpps1997@gmail.com'}"
      ]
     },
     "execution_count": 50,
     "metadata": {},
     "output_type": "execute_result"
    }
   ],
   "source": [
    "d4"
   ]
  },
  {
   "cell_type": "code",
   "execution_count": 53,
   "id": "e34352b4-285c-4eea-a794-ec3d0bed37a8",
   "metadata": {},
   "outputs": [
    {
     "data": {
      "text/plain": [
       "'krish'"
      ]
     },
     "execution_count": 53,
     "metadata": {},
     "output_type": "execute_result"
    }
   ],
   "source": [
    "d4['name']"
   ]
  },
  {
   "cell_type": "code",
   "execution_count": null,
   "id": "a03e3273-d681-4cc2-a471-93389f755461",
   "metadata": {},
   "outputs": [],
   "source": []
  },
  {
   "cell_type": "code",
   "execution_count": 4,
   "id": "b17be3d2-8593-43f8-8064-09710569bf02",
   "metadata": {},
   "outputs": [],
   "source": [
    "d4={'name':'krishna' , 'email.id':'kkpps1997@gmail.com' ,\"name\":\"krishnakumar\"}"
   ]
  },
  {
   "cell_type": "code",
   "execution_count": 5,
   "id": "a4a159eb-9a64-4672-b084-11bb1041fb6b",
   "metadata": {},
   "outputs": [
    {
     "data": {
      "text/plain": [
       "{'name': 'krishnakumar', 'email.id': 'kkpps1997@gmail.com'}"
      ]
     },
     "execution_count": 5,
     "metadata": {},
     "output_type": "execute_result"
    }
   ],
   "source": [
    "d4"
   ]
  },
  {
   "cell_type": "code",
   "execution_count": 7,
   "id": "dedca032-8919-4992-b21d-ce230c738e34",
   "metadata": {},
   "outputs": [],
   "source": [
    "d5={\"company\":\"pwskill\" , \"course\":[\"web dev\" , \"data science\" , \"java\"]}"
   ]
  },
  {
   "cell_type": "code",
   "execution_count": 8,
   "id": "7e919629-97bf-4ad9-89f9-8935ee723f5c",
   "metadata": {},
   "outputs": [
    {
     "data": {
      "text/plain": [
       "{'company': 'pwskill', 'course': ['web dev', 'data science', 'java']}"
      ]
     },
     "execution_count": 8,
     "metadata": {},
     "output_type": "execute_result"
    }
   ],
   "source": [
    "d5"
   ]
  },
  {
   "cell_type": "code",
   "execution_count": 10,
   "id": "4b6c346f-a21b-492c-8c50-74857a098534",
   "metadata": {},
   "outputs": [
    {
     "data": {
      "text/plain": [
       "['web dev', 'data science', 'java']"
      ]
     },
     "execution_count": 10,
     "metadata": {},
     "output_type": "execute_result"
    }
   ],
   "source": [
    "d5['course']"
   ]
  },
  {
   "cell_type": "code",
   "execution_count": 11,
   "id": "0cefa21f-2975-43ac-97ea-02c1f736bd81",
   "metadata": {},
   "outputs": [
    {
     "data": {
      "text/plain": [
       "'java'"
      ]
     },
     "execution_count": 11,
     "metadata": {},
     "output_type": "execute_result"
    }
   ],
   "source": [
    "d5['course'][2]"
   ]
  },
  {
   "cell_type": "code",
   "execution_count": 14,
   "id": "20cbc845-86b3-4544-8cab-236f9ea70757",
   "metadata": {},
   "outputs": [],
   "source": [
    "d6={\"number\":[1,2,3,4,5] , \"assigne\":(3,4,5,6,7) , \"lunch\":{2,4,5,8,7,9}}"
   ]
  },
  {
   "cell_type": "code",
   "execution_count": 15,
   "id": "aa0b7bde-3dd3-4a67-84d1-a065b6845044",
   "metadata": {},
   "outputs": [
    {
     "data": {
      "text/plain": [
       "{'number': [1, 2, 3, 4, 5],\n",
       " 'assigne': (3, 4, 5, 6, 7),\n",
       " 'lunch': {2, 4, 5, 7, 8, 9}}"
      ]
     },
     "execution_count": 15,
     "metadata": {},
     "output_type": "execute_result"
    }
   ],
   "source": [
    "d6"
   ]
  },
  {
   "cell_type": "code",
   "execution_count": 16,
   "id": "bd518284-aecb-46ae-b259-2f3d4d8c963b",
   "metadata": {},
   "outputs": [],
   "source": [
    "d6['mantor']=['sudhansu' , 'krish' , 'anurag']"
   ]
  },
  {
   "cell_type": "code",
   "execution_count": 17,
   "id": "37a3635b-ef37-4896-9764-6b677f66e875",
   "metadata": {},
   "outputs": [
    {
     "data": {
      "text/plain": [
       "{'number': [1, 2, 3, 4, 5],\n",
       " 'assigne': (3, 4, 5, 6, 7),\n",
       " 'lunch': {2, 4, 5, 7, 8, 9},\n",
       " 'mantor': ['sudhansu', 'krish', 'anurag']}"
      ]
     },
     "execution_count": 17,
     "metadata": {},
     "output_type": "execute_result"
    }
   ],
   "source": [
    "d6"
   ]
  },
  {
   "cell_type": "code",
   "execution_count": 18,
   "id": "b023d65a-f5a7-41a0-816d-3f6ba81cf75f",
   "metadata": {},
   "outputs": [],
   "source": [
    "del d6['number']"
   ]
  },
  {
   "cell_type": "code",
   "execution_count": 19,
   "id": "172b3c65-b77b-4af6-86db-7d6386a3ef79",
   "metadata": {},
   "outputs": [
    {
     "data": {
      "text/plain": [
       "{'assigne': (3, 4, 5, 6, 7),\n",
       " 'lunch': {2, 4, 5, 7, 8, 9},\n",
       " 'mantor': ['sudhansu', 'krish', 'anurag']}"
      ]
     },
     "execution_count": 19,
     "metadata": {},
     "output_type": "execute_result"
    }
   ],
   "source": [
    "d6"
   ]
  },
  {
   "cell_type": "code",
   "execution_count": 20,
   "id": "d3e59c35-93b0-4735-87c0-6241024babb8",
   "metadata": {},
   "outputs": [
    {
     "data": {
      "text/plain": [
       "dict_keys(['assigne', 'lunch', 'mantor'])"
      ]
     },
     "execution_count": 20,
     "metadata": {},
     "output_type": "execute_result"
    }
   ],
   "source": [
    "d6.keys()"
   ]
  },
  {
   "cell_type": "code",
   "execution_count": 21,
   "id": "72094e1e-c5f4-4d3e-afc9-2450715a70dc",
   "metadata": {},
   "outputs": [
    {
     "data": {
      "text/plain": [
       "['assigne', 'lunch', 'mantor']"
      ]
     },
     "execution_count": 21,
     "metadata": {},
     "output_type": "execute_result"
    }
   ],
   "source": [
    "list(d6.keys())"
   ]
  },
  {
   "cell_type": "code",
   "execution_count": 23,
   "id": "597bfef0-159c-4be8-8399-73dc859fc250",
   "metadata": {},
   "outputs": [
    {
     "data": {
      "text/plain": [
       "[(3, 4, 5, 6, 7), {2, 4, 5, 7, 8, 9}, ['sudhansu', 'krish', 'anurag']]"
      ]
     },
     "execution_count": 23,
     "metadata": {},
     "output_type": "execute_result"
    }
   ],
   "source": [
    "list(d6.values())"
   ]
  },
  {
   "cell_type": "code",
   "execution_count": 25,
   "id": "184a1cd3-0296-4abf-80b8-6c435bbc815c",
   "metadata": {},
   "outputs": [
    {
     "data": {
      "text/plain": [
       "dict_items([('assigne', (3, 4, 5, 6, 7)), ('lunch', {2, 4, 5, 7, 8, 9}), ('mantor', ['sudhansu', 'krish', 'anurag'])])"
      ]
     },
     "execution_count": 25,
     "metadata": {},
     "output_type": "execute_result"
    }
   ],
   "source": [
    "d6.items()"
   ]
  },
  {
   "cell_type": "code",
   "execution_count": 27,
   "id": "d2c0bbae-7df3-4510-b799-6f0c3f2ad01c",
   "metadata": {},
   "outputs": [
    {
     "data": {
      "text/plain": [
       "[('assigne', (3, 4, 5, 6, 7)),\n",
       " ('lunch', {2, 4, 5, 7, 8, 9}),\n",
       " ('mantor', ['sudhansu', 'krish', 'anurag'])]"
      ]
     },
     "execution_count": 27,
     "metadata": {},
     "output_type": "execute_result"
    }
   ],
   "source": [
    "list(d6.items())"
   ]
  },
  {
   "cell_type": "code",
   "execution_count": 28,
   "id": "d9c6baa6-b393-4d86-b43b-08c06637ae4d",
   "metadata": {},
   "outputs": [
    {
     "data": {
      "text/plain": [
       "(3, 4, 5, 6, 7)"
      ]
     },
     "execution_count": 28,
     "metadata": {},
     "output_type": "execute_result"
    }
   ],
   "source": [
    "d6.pop('assigne')"
   ]
  },
  {
   "cell_type": "code",
   "execution_count": 29,
   "id": "ac475700-2043-45b4-b6fb-192ed9c238b3",
   "metadata": {},
   "outputs": [
    {
     "data": {
      "text/plain": [
       "{'lunch': {2, 4, 5, 7, 8, 9}, 'mantor': ['sudhansu', 'krish', 'anurag']}"
      ]
     },
     "execution_count": 29,
     "metadata": {},
     "output_type": "execute_result"
    }
   ],
   "source": [
    "d6"
   ]
  },
  {
   "cell_type": "code",
   "execution_count": 36,
   "id": "ddf224e0-9c8c-4153-adff-d0d87dbe7c91",
   "metadata": {},
   "outputs": [
    {
     "name": "stdout",
     "output_type": "stream",
     "text": [
      "you will be a part of A1 batch\n"
     ]
    }
   ],
   "source": [
    "marks=65\n",
    "if marks >=80 :\n",
    "    print(\"you will be a part of  A0 batch\")\n",
    "elif marks >=60 and marks < 80 :\n",
    "    print(\"you will be a part of A1 batch\")   \n",
    "elif marks >=40 and marks <60 :\n",
    "    print(\"you will be a part of A2 batch\")\n",
    "else :\n",
    "    print(\"you will be a part of A3 batch\")\n",
    "    "
   ]
  },
  {
   "cell_type": "code",
   "execution_count": null,
   "id": "73087428-2a62-425d-8d31-dc66de790ad6",
   "metadata": {},
   "outputs": [],
   "source": []
  },
  {
   "cell_type": "code",
   "execution_count": null,
   "id": "48636ab5-5f06-4bb9-8dc5-da99ac07ef1f",
   "metadata": {},
   "outputs": [],
   "source": [
    "marks=-56\n",
    "if marks >=80 :\n",
    "    print(\"you will be a part of  A0 batch\")\n",
    "elif marks >=60 and marks < 80 :\n",
    "    print(\"you will be a part of A1 batch\")   \n",
    "elif marks >=40 and marks <60 :\n",
    "    print(\"you will be a part of A2 batch\")\n",
    "else :\n",
    "    print(\"you will be a part of A3 batch\")\n",
    "\n",
    "    "
   ]
  },
  {
   "cell_type": "code",
   "execution_count": null,
   "id": "6ad92c50-3000-40e9-b302-550af1626787",
   "metadata": {},
   "outputs": [],
   "source": []
  },
  {
   "cell_type": "code",
   "execution_count": 1,
   "id": "a4f8518c-ba9d-4d6c-973e-bdf8d5aca144",
   "metadata": {},
   "outputs": [
    {
     "name": "stdout",
     "output_type": "stream",
     "text": [
      "you will be a part of A3 batch\n"
     ]
    }
   ],
   "source": [
    "marks=-56\n",
    "if marks >=80 :\n",
    "    print(\"you will be a part of  A0 batch\")\n",
    "elif marks >=60 and marks < 80 :\n",
    "    print(\"you will be a part of A1 batch\")   \n",
    "elif marks >=40 and marks <60 :\n",
    "    print(\"you will be a part of A2 batch\")\n",
    "else :\n",
    "    print(\"you will be a part of A3 batch\")\n",
    "\n",
    "    "
   ]
  },
  {
   "cell_type": "code",
   "execution_count": 5,
   "id": "687494a3-b78d-48dd-9704-0fa6731cfa81",
   "metadata": {},
   "outputs": [
    {
     "name": "stdin",
     "output_type": "stream",
     "text": [
      "enter your makrs 56\n"
     ]
    },
    {
     "name": "stdout",
     "output_type": "stream",
     "text": [
      "you will be a part of A2 batch\n"
     ]
    }
   ],
   "source": [
    "marks=int(input(\"enter your makrs\"))\n",
    "if marks >=80 :\n",
    "    print(\"you will be a part of  A0 batch\")\n",
    "elif marks >=60 and marks < 80 :\n",
    "    print(\"you will be a part of A1 batch\")   \n",
    "elif marks >=40 and marks <60 :\n",
    "    print(\"you will be a part of A2 batch\")\n",
    "else :\n",
    "    print(\"you will be a part of A3 batch\")\n",
    "\n",
    "    "
   ]
  },
  {
   "cell_type": "code",
   "execution_count": 11,
   "id": "e7d4a77f-6315-420f-8dca-0f4e9d0d8c10",
   "metadata": {},
   "outputs": [
    {
     "name": "stdin",
     "output_type": "stream",
     "text": [
      "enter your price 3000\n"
     ]
    },
    {
     "name": "stdout",
     "output_type": "stream",
     "text": [
      "i will purchase\n"
     ]
    }
   ],
   "source": [
    "price =int(input(\"enter your price\"))\n",
    "if price >2000 :\n",
    "    print(\"i will purchase\")\n",
    "else :\n",
    "    print(\"i will not purchase\")       \n",
    "           "
   ]
  },
  {
   "cell_type": "code",
   "execution_count": 12,
   "id": "5ee6842c-b5cc-4c1c-a051-966341376cd1",
   "metadata": {},
   "outputs": [],
   "source": [
    "l=[1,2,3,4,5,6]"
   ]
  },
  {
   "cell_type": "code",
   "execution_count": 13,
   "id": "4bb5eebc-3adf-4133-82de-c43050e8c49a",
   "metadata": {},
   "outputs": [
    {
     "data": {
      "text/plain": [
       "[1, 2, 3, 4, 5, 6]"
      ]
     },
     "execution_count": 13,
     "metadata": {},
     "output_type": "execute_result"
    }
   ],
   "source": [
    "l"
   ]
  },
  {
   "cell_type": "code",
   "execution_count": 14,
   "id": "3ec14be5-427a-40ea-b0c6-e131fc3fc003",
   "metadata": {},
   "outputs": [
    {
     "data": {
      "text/plain": [
       "list"
      ]
     },
     "execution_count": 14,
     "metadata": {},
     "output_type": "execute_result"
    }
   ],
   "source": [
    "type(l)"
   ]
  },
  {
   "cell_type": "code",
   "execution_count": 15,
   "id": "48452e5e-a222-4154-96dc-a4946bb694ff",
   "metadata": {},
   "outputs": [
    {
     "data": {
      "text/plain": [
       "1"
      ]
     },
     "execution_count": 15,
     "metadata": {},
     "output_type": "execute_result"
    }
   ],
   "source": [
    "l[0]"
   ]
  },
  {
   "cell_type": "code",
   "execution_count": 16,
   "id": "845b1ddc-f336-4024-86db-f3bef14d64ce",
   "metadata": {},
   "outputs": [
    {
     "data": {
      "text/plain": [
       "2"
      ]
     },
     "execution_count": 16,
     "metadata": {},
     "output_type": "execute_result"
    }
   ],
   "source": [
    "l[0]+1"
   ]
  },
  {
   "cell_type": "code",
   "execution_count": 17,
   "id": "2644059c-5ff8-4c1d-af28-5c48984cbdeb",
   "metadata": {},
   "outputs": [],
   "source": [
    "l1=[]"
   ]
  },
  {
   "cell_type": "code",
   "execution_count": 18,
   "id": "44768eaf-2256-4e92-b2b8-95db51a070b7",
   "metadata": {},
   "outputs": [],
   "source": [
    "l1.append(l[0]+1)"
   ]
  },
  {
   "cell_type": "code",
   "execution_count": 19,
   "id": "aae21b53-ac15-4de2-9405-4b6bc47f8aec",
   "metadata": {},
   "outputs": [
    {
     "data": {
      "text/plain": [
       "[2]"
      ]
     },
     "execution_count": 19,
     "metadata": {},
     "output_type": "execute_result"
    }
   ],
   "source": [
    "l1"
   ]
  },
  {
   "cell_type": "code",
   "execution_count": 20,
   "id": "e27a1244-a18e-4bc9-858d-6cea0eab1611",
   "metadata": {},
   "outputs": [],
   "source": [
    "l=[1,2,3,4,5,6,7]"
   ]
  },
  {
   "cell_type": "code",
   "execution_count": 32,
   "id": "799e2aec-1fe3-49c4-a049-52e19ca6b045",
   "metadata": {},
   "outputs": [
    {
     "name": "stdout",
     "output_type": "stream",
     "text": [
      "1\n",
      "2\n",
      "3\n",
      "4\n",
      "5\n",
      "6\n",
      "7\n"
     ]
    }
   ],
   "source": [
    "for i in l :\n",
    "    print(i)"
   ]
  },
  {
   "cell_type": "code",
   "execution_count": 30,
   "id": "18d1cdd4-1f3f-4c82-80b9-cd73c8729dcb",
   "metadata": {},
   "outputs": [
    {
     "data": {
      "text/plain": [
       "int"
      ]
     },
     "execution_count": 30,
     "metadata": {},
     "output_type": "execute_result"
    }
   ],
   "source": [
    "type(i)"
   ]
  },
  {
   "cell_type": "code",
   "execution_count": 36,
   "id": "182f0c49-8775-4f6d-884b-eb687dda4af0",
   "metadata": {},
   "outputs": [
    {
     "name": "stdout",
     "output_type": "stream",
     "text": [
      "2\n",
      "3\n",
      "4\n",
      "5\n",
      "6\n",
      "7\n",
      "8\n"
     ]
    }
   ],
   "source": [
    "for i in l :\n",
    "    print(i+1)"
   ]
  },
  {
   "cell_type": "code",
   "execution_count": 45,
   "id": "e4ba0be6-76e7-419c-ac8b-f1e2936a32f2",
   "metadata": {},
   "outputs": [
    {
     "name": "stdout",
     "output_type": "stream",
     "text": [
      "2\n",
      "3\n",
      "4\n",
      "5\n",
      "6\n",
      "7\n",
      "8\n"
     ]
    },
    {
     "data": {
      "text/plain": [
       "[2, 3, 4, 5, 6, 7, 8]"
      ]
     },
     "execution_count": 45,
     "metadata": {},
     "output_type": "execute_result"
    }
   ],
   "source": [
    "l1=[]\n",
    "for i in l:\n",
    "    print(i+1)\n",
    "    l1.append(i+1)\n",
    "l1"
   ]
  },
  {
   "cell_type": "code",
   "execution_count": 44,
   "id": "c613754d-e5c8-4a75-945c-14cd16153e3d",
   "metadata": {},
   "outputs": [
    {
     "data": {
      "text/plain": [
       "[2, 3, 4, 5, 6, 7, 8]"
      ]
     },
     "execution_count": 44,
     "metadata": {},
     "output_type": "execute_result"
    }
   ],
   "source": [
    "l1"
   ]
  },
  {
   "cell_type": "code",
   "execution_count": 46,
   "id": "f03d3091-e545-492d-96b9-1f5ffbd6537a",
   "metadata": {},
   "outputs": [],
   "source": [
    "l=[\"sudh\" , \"kumar\" , \"pwskill\" , \"course\"]"
   ]
  },
  {
   "cell_type": "code",
   "execution_count": 48,
   "id": "34dd0aac-7e40-4f7f-adfb-7bce75dd16a5",
   "metadata": {},
   "outputs": [
    {
     "name": "stdout",
     "output_type": "stream",
     "text": [
      "sudh\n",
      "kumar\n",
      "pwskill\n",
      "course\n"
     ]
    }
   ],
   "source": [
    "l1=[]\n",
    "for i in l:\n",
    "    print(i)\n",
    "    l1.append(i.upper())"
   ]
  },
  {
   "cell_type": "code",
   "execution_count": 49,
   "id": "ec822d92-f5dc-4f46-aa47-02e2af44e4e4",
   "metadata": {},
   "outputs": [
    {
     "data": {
      "text/plain": [
       "['SUDH', 'KUMAR', 'PWSKILL', 'COURSE']"
      ]
     },
     "execution_count": 49,
     "metadata": {},
     "output_type": "execute_result"
    }
   ],
   "source": [
    "l1"
   ]
  },
  {
   "cell_type": "code",
   "execution_count": 51,
   "id": "13dd2b5c-1ccb-4cd8-88ad-a766ecb6ef41",
   "metadata": {},
   "outputs": [],
   "source": [
    "l=[1,2,3,4,5,6, \"krish\" , \"kumar\" ,\"shivkumar\"]"
   ]
  },
  {
   "cell_type": "code",
   "execution_count": 64,
   "id": "e7d57b05-65c8-44ba-a2ce-0dd5b99a7c84",
   "metadata": {},
   "outputs": [],
   "source": [
    "l1=[]\n",
    "l2=[]\n",
    "for i in l:\n",
    "    if type(i)== int or type(i)== float:\n",
    "        l1.append(i)\n",
    "    else :\n",
    "        l2.append(i)\n",
    "\n"
   ]
  },
  {
   "cell_type": "code",
   "execution_count": 65,
   "id": "82882b75-3840-4ec4-99e4-3c693098244e",
   "metadata": {},
   "outputs": [
    {
     "data": {
      "text/plain": [
       "[1, 2, 3, 4, 5, 6]"
      ]
     },
     "execution_count": 65,
     "metadata": {},
     "output_type": "execute_result"
    }
   ],
   "source": [
    "l1"
   ]
  },
  {
   "cell_type": "code",
   "execution_count": 66,
   "id": "012d6479-f3f7-418a-9485-5e9767d2a43c",
   "metadata": {},
   "outputs": [
    {
     "data": {
      "text/plain": [
       "['krish', 'kumar', 'shivkumar']"
      ]
     },
     "execution_count": 66,
     "metadata": {},
     "output_type": "execute_result"
    }
   ],
   "source": [
    "l2"
   ]
  },
  {
   "cell_type": "code",
   "execution_count": null,
   "id": "ac21fef2-cfbd-4f9f-914d-fe3dae297217",
   "metadata": {},
   "outputs": [],
   "source": []
  }
 ],
 "metadata": {
  "kernelspec": {
   "display_name": "Python 3 (ipykernel)",
   "language": "python",
   "name": "python3"
  },
  "language_info": {
   "codemirror_mode": {
    "name": "ipython",
    "version": 3
   },
   "file_extension": ".py",
   "mimetype": "text/x-python",
   "name": "python",
   "nbconvert_exporter": "python",
   "pygments_lexer": "ipython3",
   "version": "3.10.8"
  }
 },
 "nbformat": 4,
 "nbformat_minor": 5
}
